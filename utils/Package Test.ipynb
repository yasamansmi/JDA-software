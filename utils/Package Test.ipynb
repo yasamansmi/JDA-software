{
 "cells": [
  {
   "cell_type": "code",
   "execution_count": 1,
   "metadata": {},
   "outputs": [
    {
     "data": {
      "application/javascript": [
       "\n",
       "            setTimeout(function() {\n",
       "                var nbb_cell_id = 1;\n",
       "                var nbb_unformatted_code = \"import pandas as pd\\nimport jda\\nimport os\\n\\n%load_ext autoreload\\n%autoreload 2\\n%load_ext nb_black\";\n",
       "                var nbb_formatted_code = \"import pandas as pd\\nimport jda\\nimport os\\n\\n%load_ext autoreload\\n%autoreload 2\\n%load_ext nb_black\";\n",
       "                var nbb_cells = Jupyter.notebook.get_cells();\n",
       "                for (var i = 0; i < nbb_cells.length; ++i) {\n",
       "                    if (nbb_cells[i].input_prompt_number == nbb_cell_id) {\n",
       "                        if (nbb_cells[i].get_text() == nbb_unformatted_code) {\n",
       "                             nbb_cells[i].set_text(nbb_formatted_code);\n",
       "                        }\n",
       "                        break;\n",
       "                    }\n",
       "                }\n",
       "            }, 500);\n",
       "            "
      ],
      "text/plain": [
       "<IPython.core.display.Javascript object>"
      ]
     },
     "metadata": {},
     "output_type": "display_data"
    }
   ],
   "source": [
    "import pandas as pd\n",
    "import jda\n",
    "import os\n",
    "\n",
    "%load_ext autoreload\n",
    "%autoreload 2\n",
    "%load_ext nb_black"
   ]
  },
  {
   "cell_type": "code",
   "execution_count": 2,
   "metadata": {
    "scrolled": true
   },
   "outputs": [
    {
     "data": {
      "application/javascript": [
       "\n",
       "            setTimeout(function() {\n",
       "                var nbb_cell_id = 2;\n",
       "                var nbb_unformatted_code = \"from jda import Preprocessing, Pipeline\\nfrom jda.randomforest import RandomForest\\nfrom jda.tools.tools import plot_feature_importance\";\n",
       "                var nbb_formatted_code = \"from jda import Preprocessing, Pipeline\\nfrom jda.randomforest import RandomForest\\nfrom jda.tools.tools import plot_feature_importance\";\n",
       "                var nbb_cells = Jupyter.notebook.get_cells();\n",
       "                for (var i = 0; i < nbb_cells.length; ++i) {\n",
       "                    if (nbb_cells[i].input_prompt_number == nbb_cell_id) {\n",
       "                        if (nbb_cells[i].get_text() == nbb_unformatted_code) {\n",
       "                             nbb_cells[i].set_text(nbb_formatted_code);\n",
       "                        }\n",
       "                        break;\n",
       "                    }\n",
       "                }\n",
       "            }, 500);\n",
       "            "
      ],
      "text/plain": [
       "<IPython.core.display.Javascript object>"
      ]
     },
     "metadata": {},
     "output_type": "display_data"
    }
   ],
   "source": [
    "from jda import Preprocessing, Pipeline\n",
    "from jda.randomforest import RandomForest\n",
    "from jda.tools.tools import plot_feature_importance"
   ]
  },
  {
   "cell_type": "code",
   "execution_count": 3,
   "metadata": {},
   "outputs": [
    {
     "name": "stdout",
     "output_type": "stream",
     "text": [
      "The model is created with a mean absolute percentge error of 24.77% and a root mean suqared of 36.15 and scatter index of 0.19\n",
      "The predicted values are: \n",
      " [498.4 281.6 193.3  34.3 225.1  75.1  17.3 290.8 157.6 132.1]\n"
     ]
    },
    {
     "data": {
      "image/png": "[encoded data removed]",
      "text/plain": [
       "<Figure size 432x288 with 1 Axes>"
      ]
     },
     "metadata": {
      "needs_background": "light"
     },
     "output_type": "display_data"
    },
    {
     "data": {
      "application/javascript": [
       "\n",
       "            setTimeout(function() {\n",
       "                var nbb_cell_id = 3;\n",
       "                var nbb_unformatted_code = \"p = Pipeline()\\np.lags = 3\\np.omit_features = [\\n    \\\"dteday\\\",\\n    \\\"instant\\\",\\n    \\\"casual\\\",\\n    \\\"registered\\\",\\n    \\\"holiday\\\",\\n    \\\"weathersit\\\",\\n    \\\"windspeed\\\",\\n    \\\"weekday\\\",\\n    \\\"mnth\\\",\\n    \\\"atemp\\\",\\n    \\\"hum\\\",\\n    \\\"temp\\\",\\n]\\np.run_training_pipeline()\\np.run_inference()\";\n",
       "                var nbb_formatted_code = \"p = Pipeline()\\np.lags = 3\\np.omit_features = [\\n    \\\"dteday\\\",\\n    \\\"instant\\\",\\n    \\\"casual\\\",\\n    \\\"registered\\\",\\n    \\\"holiday\\\",\\n    \\\"weathersit\\\",\\n    \\\"windspeed\\\",\\n    \\\"weekday\\\",\\n    \\\"mnth\\\",\\n    \\\"atemp\\\",\\n    \\\"hum\\\",\\n    \\\"temp\\\",\\n]\\np.run_training_pipeline()\\np.run_inference()\";\n",
       "                var nbb_cells = Jupyter.notebook.get_cells();\n",
       "                for (var i = 0; i < nbb_cells.length; ++i) {\n",
       "                    if (nbb_cells[i].input_prompt_number == nbb_cell_id) {\n",
       "                        if (nbb_cells[i].get_text() == nbb_unformatted_code) {\n",
       "                             nbb_cells[i].set_text(nbb_formatted_code);\n",
       "                        }\n",
       "                        break;\n",
       "                    }\n",
       "                }\n",
       "            }, 500);\n",
       "            "
      ],
      "text/plain": [
       "<IPython.core.display.Javascript object>"
      ]
     },
     "metadata": {},
     "output_type": "display_data"
    }
   ],
   "source": [
    "p = Pipeline()\n",
    "p.lags = 3\n",
    "p.omit_features = [\n",
    "    \"dteday\",\n",
    "    \"instant\",\n",
    "    \"casual\",\n",
    "    \"registered\",\n",
    "    \"holiday\",\n",
    "    \"weathersit\",\n",
    "    \"windspeed\",\n",
    "    \"weekday\",\n",
    "    \"mnth\",\n",
    "    \"atemp\",\n",
    "    \"hum\",\n",
    "    \"temp\",\n",
    "]\n",
    "p.run_training_pipeline()\n",
    "p.run_inference()\n"
   ]
  }
 ],
 "metadata": {
  "kernelspec": {
   "display_name": "jda-software-iAwyo-v7-py3.7",
   "language": "python",
   "name": "jda-software-iawyo-v7-py3.7"
  },
  "language_info": {
   "codemirror_mode": {
    "name": "ipython",
    "version": 3
   },
   "file_extension": ".py",
   "mimetype": "text/x-python",
   "name": "python",
   "nbconvert_exporter": "python",
   "pygments_lexer": "ipython3",
   "version": "3.7.6"
  }
 },
 "nbformat": 4,
 "nbformat_minor": 4
}
